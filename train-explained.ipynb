{
 "cells": [
  {
   "cell_type": "code",
   "execution_count": 16,
   "metadata": {},
   "outputs": [],
   "source": [
    "import numpy as np"
   ]
  },
  {
   "cell_type": "code",
   "execution_count": 17,
   "metadata": {},
   "outputs": [],
   "source": [
    "import os"
   ]
  },
  {
   "cell_type": "markdown",
   "metadata": {},
   "source": [
    "# Transfer learning \n",
    "\n",
    "We start with two folders containing positive and negative samples for stadiums, due to the nature of the problem, classes are highly unbalanced. "
   ]
  },
  {
   "cell_type": "markdown",
   "metadata": {},
   "source": [
    "we'll use class_weights to reinforce positive samples (minority class)."
   ]
  },
  {
   "cell_type": "code",
   "execution_count": 18,
   "metadata": {},
   "outputs": [],
   "source": [
    "stadium_images = os.listdir('stadiums/')"
   ]
  },
  {
   "cell_type": "code",
   "execution_count": 19,
   "metadata": {},
   "outputs": [],
   "source": [
    "non_stadium_images = os.listdir('non_stadiums/')"
   ]
  },
  {
   "cell_type": "code",
   "execution_count": 20,
   "metadata": {},
   "outputs": [
    {
     "data": {
      "text/plain": [
       "11972"
      ]
     },
     "execution_count": 20,
     "metadata": {},
     "output_type": "execute_result"
    }
   ],
   "source": [
    "len(non_stadium_images)"
   ]
  },
  {
   "cell_type": "code",
   "execution_count": 21,
   "metadata": {},
   "outputs": [
    {
     "data": {
      "text/plain": [
       "47"
      ]
     },
     "execution_count": 21,
     "metadata": {},
     "output_type": "execute_result"
    }
   ],
   "source": [
    "len(stadium_images)"
   ]
  },
  {
   "cell_type": "code",
   "execution_count": null,
   "metadata": {},
   "outputs": [],
   "source": []
  },
  {
   "cell_type": "code",
   "execution_count": 22,
   "metadata": {},
   "outputs": [],
   "source": [
    "import pandas as pd\n",
    "stadium_df = pd.DataFrame()\n",
    "stadium_df['filename'] = stadium_images\n",
    "stadium_df['is_stadium'] = True"
   ]
  },
  {
   "cell_type": "code",
   "execution_count": 23,
   "metadata": {},
   "outputs": [],
   "source": [
    "non_stadium_df = pd.DataFrame()\n",
    "non_stadium_df['filename'] = non_stadium_images\n",
    "non_stadium_df['is_stadium'] = False"
   ]
  },
  {
   "cell_type": "code",
   "execution_count": 24,
   "metadata": {},
   "outputs": [],
   "source": [
    "dataset_df = pd.concat([non_stadium_df,stadium_df])"
   ]
  },
  {
   "cell_type": "code",
   "execution_count": 25,
   "metadata": {},
   "outputs": [],
   "source": [
    "dataset_df = dataset_df.drop(0)"
   ]
  },
  {
   "cell_type": "markdown",
   "metadata": {},
   "source": [
    "# Feature Extraction"
   ]
  },
  {
   "cell_type": "markdown",
   "metadata": {},
   "source": [
    "We'll use resnet50 to extract image features from the positives and negative samples. Then use those features as input\n",
    "to a single layer network with dropout for classification"
   ]
  },
  {
   "cell_type": "markdown",
   "metadata": {},
   "source": [
    "Let's try out feature extraction for a single image"
   ]
  },
  {
   "cell_type": "code",
   "execution_count": 26,
   "metadata": {},
   "outputs": [],
   "source": [
    "from keras.applications import resnet50\n",
    "from keras.applications.resnet50 import preprocess_input\n",
    "from keras.preprocessing import image\n"
   ]
  },
  {
   "cell_type": "code",
   "execution_count": 27,
   "metadata": {},
   "outputs": [
    {
     "name": "stdout",
     "output_type": "stream",
     "text": [
      "[[[[ 0.08236177  0.05985396  0.08081593 ...,  0.16119762  0.81385475\n",
      "     0.42690596]]]]\n",
      "(1, 1, 1, 2048)\n"
     ]
    }
   ],
   "source": [
    "model = resnet50.ResNet50(weights='imagenet', include_top=False)\n",
    "#model.summary()\n",
    "\n",
    "img_path = 'stadiums/Estadio Alberto J. Armando.png'\n",
    "img = image.load_img(img_path, target_size=(256, 256))\n",
    "img_data = image.img_to_array(img)\n",
    "img_data = np.expand_dims(img_data, axis=0)\n",
    "img_data = preprocess_input(img_data)\n",
    "\n",
    "resnet_features = model.predict(img_data)\n",
    "print(resnet_features)\n",
    "print(resnet_features.shape)"
   ]
  },
  {
   "cell_type": "markdown",
   "metadata": {},
   "source": [
    "an image is then represented by an array of 2048 floats taken from the output of the resnet. Let's extract \n",
    "features for the rest of the stadium images"
   ]
  },
  {
   "cell_type": "code",
   "execution_count": 28,
   "metadata": {},
   "outputs": [],
   "source": [
    "image_features = []\n",
    "for x in stadium_images:\n",
    "    if x.endswith('.png'):\n",
    "        img = image.load_img('stadiums/'+x, target_size=(256, 256))\n",
    "        img_data = image.img_to_array(img)\n",
    "        img_data = np.expand_dims(img_data, axis=0)\n",
    "        img_data = preprocess_input(img_data)\n",
    "        features = model.predict(img_data)\n",
    "        image_features.append(features.flatten())"
   ]
  },
  {
   "cell_type": "code",
   "execution_count": 29,
   "metadata": {},
   "outputs": [],
   "source": [
    "stadium_features = image_features"
   ]
  },
  {
   "cell_type": "code",
   "execution_count": null,
   "metadata": {},
   "outputs": [],
   "source": [
    "import random\n",
    "non_stadium_features = []\n",
    "for x in non_stadium_images:\n",
    "    if x.endswith('.jpg'):\n",
    "        img = image.load_img('non_stadiums//'+x, target_size=(256, 256))\n",
    "        img_data = image.img_to_array(img)\n",
    "        img_data = np.expand_dims(img_data, axis=0)\n",
    "        img_data = preprocess_input(img_data)\n",
    "        features = model.predict(img_data)\n",
    "        non_stadium_features.append(features.flatten())"
   ]
  },
  {
   "cell_type": "markdown",
   "metadata": {},
   "source": [
    "we saved extracted features so that we don't have to calculate them again."
   ]
  },
  {
   "cell_type": "code",
   "execution_count": 36,
   "metadata": {},
   "outputs": [],
   "source": [
    "#save for future usage\n",
    "np.array(non_stadium_features).dump(open('non_stadium_features.pickle','wb'))"
   ]
  },
  {
   "cell_type": "code",
   "execution_count": 30,
   "metadata": {},
   "outputs": [],
   "source": [
    "non_stadium_features = np.load(open('non_stadium_features.pickle','rb'))"
   ]
  },
  {
   "cell_type": "code",
   "execution_count": 31,
   "metadata": {},
   "outputs": [],
   "source": [
    "# simple NN to train with static features"
   ]
  },
  {
   "cell_type": "markdown",
   "metadata": {},
   "source": [
    "#  training"
   ]
  },
  {
   "cell_type": "markdown",
   "metadata": {},
   "source": [
    "We connect the outputs of the resnet50  with a dense single layer network. We add dropout to avoid overfitting. "
   ]
  },
  {
   "cell_type": "code",
   "execution_count": 100,
   "metadata": {},
   "outputs": [],
   "source": [
    "def build_model():\n",
    "    from keras import models\n",
    "    from keras import layers\n",
    "    from keras import optimizers\n",
    "    model = models.Sequential()\n",
    "    model.add(layers.Dense(256, activation='relu', input_dim=2048))\n",
    "    model.add(layers.Dropout(0.5))\n",
    "    model.add(layers.Dense(1, activation='sigmoid'))\n",
    "    model.compile(optimizer=optimizers.RMSprop(lr=2e-5),\n",
    "              loss='binary_crossentropy',\n",
    "              metrics=['acc'])\n",
    "    return model"
   ]
  },
  {
   "cell_type": "code",
   "execution_count": 33,
   "metadata": {},
   "outputs": [],
   "source": [
    "from sklearn.model_selection import train_test_split\n"
   ]
  },
  {
   "cell_type": "code",
   "execution_count": 35,
   "metadata": {},
   "outputs": [
    {
     "data": {
      "text/plain": [
       "45"
      ]
     },
     "execution_count": 35,
     "metadata": {},
     "output_type": "execute_result"
    }
   ],
   "source": [
    "len(stadium_features)"
   ]
  },
  {
   "cell_type": "code",
   "execution_count": 36,
   "metadata": {},
   "outputs": [
    {
     "data": {
      "text/plain": [
       "12015"
      ]
     },
     "execution_count": 36,
     "metadata": {},
     "output_type": "execute_result"
    }
   ],
   "source": [
    "len(features)"
   ]
  },
  {
   "cell_type": "code",
   "execution_count": 115,
   "metadata": {},
   "outputs": [],
   "source": [
    "import pandas as pd\n",
    "from sklearn.metrics import roc_auc_score\n",
    "from sklearn.metrics import confusion_matrix\n",
    "import pandas as pd\n",
    "from sklearn.metrics import roc_auc_score\n",
    "from sklearn.metrics import confusion_matrix\n",
    "from sklearn.metrics import classification_report\n",
    "from sklearn.utils import class_weight\n",
    "\n",
    "    \n",
    "\n",
    "def train(model,stadium_features,non_stadium_features):\n",
    "    features = np.concatenate((np.array(stadium_features),np.array(non_stadium_features)))\n",
    "    labels = np.concatenate((np.full(len(stadium_features),1),np.zeros(len(non_stadium_features))))\n",
    "    \n",
    "\n",
    "\n",
    "    train_features,val_features,train_labels,val_labels = train_test_split(features,labels,test_size=0.3)\n",
    "    print(\"positive samples on training set %s\" % sum(train_labels))\n",
    "    print(\"positive samples on validation set %s\" % sum(val_labels))\n",
    "    class_weights = class_weight.compute_class_weight('balanced',\n",
    "                                                 np.unique(train_labels),\n",
    "                                                 train_labels)\n",
    "    \n",
    "    print(\" class weights: %s\" % class_weights)\n",
    "    print(class_weights)\n",
    "    history = model.fit(x=train_features,y=train_labels,\n",
    "                    epochs=30,\n",
    "                    batch_size=20,validation_data=(val_features,val_labels),\n",
    "                    class_weight=class_weights,verbose=2)\n",
    "    \n",
    "    predictions = model.predict_proba(val_features)\n",
    "    results = list(map(lambda x,y: (x,y),predictions,val_labels))\n",
    "    results_df = pd.DataFrame.from_records(results)\n",
    "    results_df.columns=['prediction','label']\n",
    "    cm = confusion_matrix(y_true = results_df['label'],y_pred=results_df['prediction']>0.4,labels=[0.0,1.0])\n",
    "    print(cm)\n",
    "    report = classification_report(y_true = results_df['label'],y_pred=results_df['prediction']>0.3,labels=[0.0,1.0])\n",
    "    print(report)\n",
    "    \n",
    "    return history\n"
   ]
  },
  {
   "cell_type": "markdown",
   "metadata": {},
   "source": [
    " I'll try out training 3 different models, each of them involving 1k, 3k and 5k negative samples amongst the 45 positive samples. We then will test if it has any effect on the precision / accuracy for both classes."
   ]
  },
  {
   "cell_type": "code",
   "execution_count": 116,
   "metadata": {},
   "outputs": [
    {
     "name": "stdout",
     "output_type": "stream",
     "text": [
      "positive samples on training set 30.0\n",
      "positive samples on validation set 15.0\n",
      " class weights: [  0.50428449  58.85      ]\n",
      "[  0.50428449  58.85      ]\n",
      "Train on 3531 samples, validate on 1514 samples\n",
      "Epoch 1/30\n",
      " - 2s - loss: 0.0817 - acc: 0.9881 - val_loss: 0.0720 - val_acc: 0.9901\n",
      "Epoch 2/30\n",
      " - 1s - loss: 0.0508 - acc: 0.9915 - val_loss: 0.0609 - val_acc: 0.9901\n",
      "Epoch 3/30\n",
      " - 1s - loss: 0.0447 - acc: 0.9915 - val_loss: 0.0475 - val_acc: 0.9901\n",
      "Epoch 4/30\n",
      " - 1s - loss: 0.0361 - acc: 0.9915 - val_loss: 0.0382 - val_acc: 0.9901\n",
      "Epoch 5/30\n",
      " - 1s - loss: 0.0280 - acc: 0.9918 - val_loss: 0.0342 - val_acc: 0.9901\n",
      "Epoch 6/30\n",
      " - 1s - loss: 0.0258 - acc: 0.9921 - val_loss: 0.0303 - val_acc: 0.9901\n",
      "Epoch 7/30\n",
      " - 1s - loss: 0.0210 - acc: 0.9929 - val_loss: 0.0245 - val_acc: 0.9908\n",
      "Epoch 8/30\n",
      " - 1s - loss: 0.0175 - acc: 0.9946 - val_loss: 0.0264 - val_acc: 0.9908\n",
      "Epoch 9/30\n",
      " - 1s - loss: 0.0153 - acc: 0.9946 - val_loss: 0.0261 - val_acc: 0.9908\n",
      "Epoch 10/30\n",
      " - 1s - loss: 0.0158 - acc: 0.9938 - val_loss: 0.0198 - val_acc: 0.9927\n",
      "Epoch 11/30\n",
      " - 1s - loss: 0.0135 - acc: 0.9946 - val_loss: 0.0210 - val_acc: 0.9921\n",
      "Epoch 12/30\n",
      " - 1s - loss: 0.0134 - acc: 0.9960 - val_loss: 0.0207 - val_acc: 0.9921\n",
      "Epoch 13/30\n",
      " - 1s - loss: 0.0110 - acc: 0.9960 - val_loss: 0.0192 - val_acc: 0.9941\n",
      "Epoch 14/30\n",
      " - 1s - loss: 0.0118 - acc: 0.9955 - val_loss: 0.0181 - val_acc: 0.9947\n",
      "Epoch 15/30\n",
      " - 1s - loss: 0.0088 - acc: 0.9977 - val_loss: 0.0167 - val_acc: 0.9947\n",
      "Epoch 16/30\n",
      " - 1s - loss: 0.0098 - acc: 0.9969 - val_loss: 0.0167 - val_acc: 0.9947\n",
      "Epoch 17/30\n",
      " - 1s - loss: 0.0118 - acc: 0.9958 - val_loss: 0.0151 - val_acc: 0.9947\n",
      "Epoch 18/30\n",
      " - 1s - loss: 0.0065 - acc: 0.9972 - val_loss: 0.0153 - val_acc: 0.9947\n",
      "Epoch 19/30\n",
      " - 1s - loss: 0.0068 - acc: 0.9980 - val_loss: 0.0160 - val_acc: 0.9947\n",
      "Epoch 20/30\n",
      " - 1s - loss: 0.0085 - acc: 0.9963 - val_loss: 0.0130 - val_acc: 0.9967\n",
      "Epoch 21/30\n",
      " - 1s - loss: 0.0071 - acc: 0.9977 - val_loss: 0.0152 - val_acc: 0.9960\n",
      "Epoch 22/30\n",
      " - 1s - loss: 0.0082 - acc: 0.9969 - val_loss: 0.0142 - val_acc: 0.9967\n",
      "Epoch 23/30\n",
      " - 1s - loss: 0.0067 - acc: 0.9972 - val_loss: 0.0132 - val_acc: 0.9974\n",
      "Epoch 24/30\n",
      " - 1s - loss: 0.0055 - acc: 0.9980 - val_loss: 0.0151 - val_acc: 0.9960\n",
      "Epoch 25/30\n",
      " - 1s - loss: 0.0060 - acc: 0.9977 - val_loss: 0.0123 - val_acc: 0.9980\n",
      "Epoch 26/30\n",
      " - 1s - loss: 0.0049 - acc: 0.9983 - val_loss: 0.0129 - val_acc: 0.9974\n",
      "Epoch 27/30\n",
      " - 1s - loss: 0.0043 - acc: 0.9989 - val_loss: 0.0132 - val_acc: 0.9974\n",
      "Epoch 28/30\n",
      " - 1s - loss: 0.0041 - acc: 0.9986 - val_loss: 0.0129 - val_acc: 0.9974\n",
      "Epoch 29/30\n",
      " - 1s - loss: 0.0037 - acc: 0.9986 - val_loss: 0.0113 - val_acc: 0.9980\n",
      "Epoch 30/30\n",
      " - 1s - loss: 0.0050 - acc: 0.9992 - val_loss: 0.0122 - val_acc: 0.9980\n",
      "[[1499    0]\n",
      " [   3   12]]\n",
      "             precision    recall  f1-score   support\n",
      "\n",
      "        0.0       1.00      1.00      1.00      1499\n",
      "        1.0       1.00      0.80      0.89        15\n",
      "\n",
      "avg / total       1.00      1.00      1.00      1514\n",
      "\n",
      "positive samples on training set 32.0\n",
      "positive samples on validation set 13.0\n",
      " class weights: [  0.52288984  11.421875  ]\n",
      "[  0.52288984  11.421875  ]\n",
      "Train on 731 samples, validate on 314 samples\n",
      "Epoch 1/30\n",
      " - 2s - loss: 0.6283 - acc: 0.7278 - val_loss: 0.1980 - val_acc: 0.9586\n",
      "Epoch 2/30\n",
      " - 0s - loss: 0.2157 - acc: 0.9425 - val_loss: 0.1713 - val_acc: 0.9586\n",
      "Epoch 3/30\n",
      " - 0s - loss: 0.1826 - acc: 0.9480 - val_loss: 0.1458 - val_acc: 0.9586\n",
      "Epoch 4/30\n",
      " - 0s - loss: 0.1292 - acc: 0.9590 - val_loss: 0.1178 - val_acc: 0.9586\n",
      "Epoch 5/30\n",
      " - 0s - loss: 0.1117 - acc: 0.9631 - val_loss: 0.0979 - val_acc: 0.9586\n",
      "Epoch 6/30\n",
      " - 0s - loss: 0.0677 - acc: 0.9726 - val_loss: 0.0912 - val_acc: 0.9618\n",
      "Epoch 7/30\n",
      " - 0s - loss: 0.0757 - acc: 0.9713 - val_loss: 0.0776 - val_acc: 0.9650\n",
      "Epoch 8/30\n",
      " - 0s - loss: 0.0553 - acc: 0.9754 - val_loss: 0.0638 - val_acc: 0.9682\n",
      "Epoch 9/30\n",
      " - 0s - loss: 0.0622 - acc: 0.9754 - val_loss: 0.0551 - val_acc: 0.9841\n",
      "Epoch 10/30\n",
      " - 0s - loss: 0.0579 - acc: 0.9795 - val_loss: 0.0504 - val_acc: 0.9841\n",
      "Epoch 11/30\n",
      " - 0s - loss: 0.0504 - acc: 0.9781 - val_loss: 0.0468 - val_acc: 0.9841\n",
      "Epoch 12/30\n",
      " - 0s - loss: 0.0490 - acc: 0.9808 - val_loss: 0.0430 - val_acc: 0.9841\n",
      "Epoch 13/30\n",
      " - 0s - loss: 0.0367 - acc: 0.9877 - val_loss: 0.0443 - val_acc: 0.9841\n",
      "Epoch 14/30\n",
      " - 0s - loss: 0.0318 - acc: 0.9891 - val_loss: 0.0432 - val_acc: 0.9841\n",
      "Epoch 15/30\n",
      " - 0s - loss: 0.0244 - acc: 0.9932 - val_loss: 0.0395 - val_acc: 0.9841\n",
      "Epoch 16/30\n",
      " - 0s - loss: 0.0310 - acc: 0.9891 - val_loss: 0.0368 - val_acc: 0.9841\n",
      "Epoch 17/30\n",
      " - 0s - loss: 0.0244 - acc: 0.9945 - val_loss: 0.0362 - val_acc: 0.9841\n",
      "Epoch 18/30\n",
      " - 0s - loss: 0.0241 - acc: 0.9904 - val_loss: 0.0372 - val_acc: 0.9841\n",
      "Epoch 19/30\n",
      " - 0s - loss: 0.0252 - acc: 0.9918 - val_loss: 0.0346 - val_acc: 0.9841\n",
      "Epoch 20/30\n",
      " - 0s - loss: 0.0166 - acc: 0.9959 - val_loss: 0.0319 - val_acc: 0.9841\n",
      "Epoch 21/30\n",
      " - 0s - loss: 0.0174 - acc: 0.9945 - val_loss: 0.0344 - val_acc: 0.9841\n",
      "Epoch 22/30\n",
      " - 0s - loss: 0.0170 - acc: 0.9973 - val_loss: 0.0286 - val_acc: 0.9841\n",
      "Epoch 23/30\n",
      " - 0s - loss: 0.0162 - acc: 0.9932 - val_loss: 0.0290 - val_acc: 0.9841\n",
      "Epoch 24/30\n",
      " - 0s - loss: 0.0159 - acc: 0.9959 - val_loss: 0.0261 - val_acc: 0.9841\n",
      "Epoch 25/30\n",
      " - 0s - loss: 0.0133 - acc: 0.9986 - val_loss: 0.0280 - val_acc: 0.9841\n",
      "Epoch 26/30\n",
      " - 0s - loss: 0.0137 - acc: 0.9973 - val_loss: 0.0253 - val_acc: 0.9841\n",
      "Epoch 27/30\n",
      " - 0s - loss: 0.0147 - acc: 0.9959 - val_loss: 0.0239 - val_acc: 0.9904\n",
      "Epoch 28/30\n",
      " - 0s - loss: 0.0116 - acc: 0.9959 - val_loss: 0.0248 - val_acc: 0.9904\n",
      "Epoch 29/30\n",
      " - 0s - loss: 0.0114 - acc: 0.9959 - val_loss: 0.0277 - val_acc: 0.9841\n",
      "Epoch 30/30\n",
      " - 0s - loss: 0.0135 - acc: 0.9959 - val_loss: 0.0272 - val_acc: 0.9841\n",
      "[[301   0]\n",
      " [  3  10]]\n",
      "             precision    recall  f1-score   support\n",
      "\n",
      "        0.0       0.99      1.00      1.00       301\n",
      "        1.0       1.00      0.77      0.87        13\n",
      "\n",
      "avg / total       0.99      0.99      0.99       314\n",
      "\n",
      "positive samples on training set 29.0\n",
      "positive samples on validation set 16.0\n",
      " class weights: [  0.50689819  36.74137931]\n",
      "[  0.50689819  36.74137931]\n",
      "Train on 2131 samples, validate on 914 samples\n",
      "Epoch 1/30\n",
      " - 2s - loss: 0.2811 - acc: 0.8930 - val_loss: 0.1142 - val_acc: 0.9825\n",
      "Epoch 2/30\n",
      " - 0s - loss: 0.0874 - acc: 0.9864 - val_loss: 0.1005 - val_acc: 0.9825\n",
      "Epoch 3/30\n",
      " - 0s - loss: 0.0708 - acc: 0.9864 - val_loss: 0.0806 - val_acc: 0.9825\n",
      "Epoch 4/30\n",
      " - 0s - loss: 0.0609 - acc: 0.9864 - val_loss: 0.0627 - val_acc: 0.9825\n",
      "Epoch 5/30\n",
      " - 0s - loss: 0.0464 - acc: 0.9873 - val_loss: 0.0552 - val_acc: 0.9825\n",
      "Epoch 6/30\n",
      " - 0s - loss: 0.0413 - acc: 0.9878 - val_loss: 0.0497 - val_acc: 0.9825\n",
      "Epoch 7/30\n",
      " - 0s - loss: 0.0286 - acc: 0.9906 - val_loss: 0.0427 - val_acc: 0.9825\n",
      "Epoch 8/30\n",
      " - 0s - loss: 0.0295 - acc: 0.9901 - val_loss: 0.0363 - val_acc: 0.9847\n",
      "Epoch 9/30\n",
      " - 0s - loss: 0.0278 - acc: 0.9901 - val_loss: 0.0330 - val_acc: 0.9858\n",
      "Epoch 10/30\n",
      " - 0s - loss: 0.0256 - acc: 0.9916 - val_loss: 0.0332 - val_acc: 0.9858\n",
      "Epoch 11/30\n",
      " - 0s - loss: 0.0229 - acc: 0.9916 - val_loss: 0.0378 - val_acc: 0.9847\n",
      "Epoch 12/30\n",
      " - 0s - loss: 0.0199 - acc: 0.9906 - val_loss: 0.0318 - val_acc: 0.9858\n",
      "Epoch 13/30\n",
      " - 0s - loss: 0.0176 - acc: 0.9920 - val_loss: 0.0295 - val_acc: 0.9858\n",
      "Epoch 14/30\n",
      " - 0s - loss: 0.0183 - acc: 0.9930 - val_loss: 0.0236 - val_acc: 0.9869\n",
      "Epoch 15/30\n",
      " - 0s - loss: 0.0165 - acc: 0.9934 - val_loss: 0.0242 - val_acc: 0.9880\n",
      "Epoch 16/30\n",
      " - 0s - loss: 0.0153 - acc: 0.9944 - val_loss: 0.0232 - val_acc: 0.9880\n",
      "Epoch 17/30\n",
      " - 0s - loss: 0.0157 - acc: 0.9930 - val_loss: 0.0220 - val_acc: 0.9880\n",
      "Epoch 18/30\n",
      " - 0s - loss: 0.0119 - acc: 0.9953 - val_loss: 0.0198 - val_acc: 0.9902\n",
      "Epoch 19/30\n",
      " - 0s - loss: 0.0108 - acc: 0.9958 - val_loss: 0.0213 - val_acc: 0.9880\n",
      "Epoch 20/30\n",
      " - 0s - loss: 0.0133 - acc: 0.9934 - val_loss: 0.0163 - val_acc: 0.9934\n",
      "Epoch 21/30\n",
      " - 0s - loss: 0.0106 - acc: 0.9972 - val_loss: 0.0176 - val_acc: 0.9934\n",
      "Epoch 22/30\n",
      " - 0s - loss: 0.0116 - acc: 0.9962 - val_loss: 0.0183 - val_acc: 0.9912\n",
      "Epoch 23/30\n",
      " - 0s - loss: 0.0104 - acc: 0.9962 - val_loss: 0.0165 - val_acc: 0.9934\n",
      "Epoch 24/30\n",
      " - 0s - loss: 0.0066 - acc: 0.9986 - val_loss: 0.0182 - val_acc: 0.9923\n",
      "Epoch 25/30\n",
      " - 0s - loss: 0.0091 - acc: 0.9962 - val_loss: 0.0181 - val_acc: 0.9934\n",
      "Epoch 26/30\n",
      " - 0s - loss: 0.0068 - acc: 0.9977 - val_loss: 0.0194 - val_acc: 0.9923\n",
      "Epoch 27/30\n",
      " - 0s - loss: 0.0093 - acc: 0.9958 - val_loss: 0.0160 - val_acc: 0.9934\n",
      "Epoch 28/30\n",
      " - 0s - loss: 0.0079 - acc: 0.9967 - val_loss: 0.0182 - val_acc: 0.9923\n",
      "Epoch 29/30\n",
      " - 0s - loss: 0.0063 - acc: 0.9977 - val_loss: 0.0175 - val_acc: 0.9934\n",
      "Epoch 30/30\n",
      " - 0s - loss: 0.0069 - acc: 0.9981 - val_loss: 0.0154 - val_acc: 0.9934\n",
      "[[898   0]\n",
      " [  3  13]]\n",
      "             precision    recall  f1-score   support\n",
      "\n",
      "        0.0       1.00      1.00      1.00       898\n",
      "        1.0       1.00      0.88      0.93        16\n",
      "\n",
      "avg / total       1.00      1.00      1.00       914\n",
      "\n"
     ]
    }
   ],
   "source": [
    "model_5000=build_model()\n",
    "history_5000= train(model_5000,stadium_features=stadium_features,non_stadium_features=non_stadium_features[np.random.choice(11970,size=5000)])\n",
    "\n",
    "model_1000=build_model()\n",
    "history_1000= train(model_1000,stadium_features=stadium_features,non_stadium_features=non_stadium_features[np.random.choice(11970,size=1000)])\n",
    "\n",
    "model_3000=build_model()\n",
    "history_3000= train(model_3000,stadium_features=stadium_features,non_stadium_features=non_stadium_features[np.random.choice(11970,size=3000)])"
   ]
  },
  {
   "cell_type": "code",
   "execution_count": 110,
   "metadata": {},
   "outputs": [],
   "source": [
    "import matplotlib.pyplot as plt\n",
    "\n",
    "def plot_history(history,title=None):\n",
    "    # Get training and test loss histories\n",
    "    training_loss = history.history['loss']\n",
    "    test_loss = history.history['val_loss']\n",
    "\n",
    "    # Create count of the number of epochs\n",
    "    epoch_count = range(1, len(training_loss) + 1)\n",
    "\n",
    "    # Visualize loss history\n",
    "    plt.plot(epoch_count, training_loss, 'r--')\n",
    "    plt.plot(epoch_count, test_loss, 'b-')\n",
    "\n",
    "    plt.legend(['Training Loss', 'Test Loss'])\n",
    "    plt.xlabel('Epoch')\n",
    "    plt.ylabel('Loss')\n",
    "    if title:\n",
    "        plt.title(title)\n",
    "    plt.show();\n",
    "\n",
    "    # Get training and test loss histories\n",
    "    training_loss = history.history['acc']\n",
    "    test_loss = history.history['val_acc']\n",
    "    plt.plot(epoch_count, training_loss, 'r--')\n",
    "    plt.plot(epoch_count, test_loss, 'b-')\n",
    "    plt.legend(['Training Acc', 'Val acc'])\n",
    "    plt.xlabel('Epoch')\n",
    "    plt.ylabel('Loss')\n",
    "    if title:\n",
    "        plt.title(title)\n",
    "    plt.show();"
   ]
  },
  {
   "cell_type": "code",
   "execution_count": 82,
   "metadata": {},
   "outputs": [
    {
     "data": {
      "image/png": "[encoded data removed]",
      "text/plain": [
       "<Figure size 432x288 with 1 Axes>"
      ]
     },
     "metadata": {
      "needs_background": "light"
     },
     "output_type": "display_data"
    },
    {
     "data": {
      "image/png": "[encoded data removed]",
      "text/plain": [
       "<Figure size 432x288 with 1 Axes>"
      ]
     },
     "metadata": {
      "needs_background": "light"
     },
     "output_type": "display_data"
    },
    {
     "data": {
      "image/png": "[encoded data removed]",
      "text/plain": [
       "<Figure size 432x288 with 1 Axes>"
      ]
     },
     "metadata": {
      "needs_background": "light"
     },
     "output_type": "display_data"
    },
    {
     "data": {
      "image/png": "[encoded data removed]",
      "text/plain": [
       "<Figure size 432x288 with 1 Axes>"
      ]
     },
     "metadata": {
      "needs_background": "light"
     },
     "output_type": "display_data"
    },
    {
     "data": {
      "image/png": "[encoded data removed]",
      "text/plain": [
       "<Figure size 432x288 with 1 Axes>"
      ]
     },
     "metadata": {
      "needs_background": "light"
     },
     "output_type": "display_data"
    },
    {
     "data": {
      "image/png": "[encoded data removed]",
      "text/plain": [
       "<Figure size 432x288 with 1 Axes>"
      ]
     },
     "metadata": {
      "needs_background": "light"
     },
     "output_type": "display_data"
    }
   ],
   "source": [
    "plot_history(history_1000,title=\"1k negative samples\")\n",
    "plot_history(history_3000,title=\"3k negative samples\")\n",
    "plot_history(history_5000,title=\"5k negative samples\")"
   ]
  },
  {
   "cell_type": "markdown",
   "metadata": {},
   "source": [
    "we see all three models behave in a similar fashion: \n",
    "- Learn to predict negative samples almost perfectly ( easiest).\n",
    "- Make some errors predicting positive samples. "
   ]
  },
  {
   "cell_type": "markdown",
   "metadata": {},
   "source": [
    "We picked the model trained with 3000 negative samples as it renders the best f1_score. "
   ]
  },
  {
   "cell_type": "code",
   "execution_count": 117,
   "metadata": {},
   "outputs": [],
   "source": [
    "model_3000.save('resnet+dense_3000.hdf5')"
   ]
  },
  {
   "cell_type": "code",
   "execution_count": null,
   "metadata": {},
   "outputs": [],
   "source": []
  }
 ],
 "metadata": {
  "kernelspec": {
   "display_name": "Python 3",
   "language": "python",
   "name": "python3"
  },
  "language_info": {
   "codemirror_mode": {
    "name": "ipython",
    "version": 3
   },
   "file_extension": ".py",
   "mimetype": "text/x-python",
   "name": "python",
   "nbconvert_exporter": "python",
   "pygments_lexer": "ipython3",
   "version": "3.6.4"
  }
 },
 "nbformat": 4,
 "nbformat_minor": 4
}
