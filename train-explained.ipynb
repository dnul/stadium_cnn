{
 "cells": [
  {
   "cell_type": "code",
   "execution_count": 1,
   "metadata": {},
   "outputs": [],
   "source": [
    "import numpy as np"
   ]
  },
  {
   "cell_type": "code",
   "execution_count": 2,
   "metadata": {},
   "outputs": [],
   "source": [
    "import os"
   ]
  },
  {
   "cell_type": "markdown",
   "metadata": {},
   "source": [
    "# Transfer learning \n",
    "\n",
    "We start with two folders containing positive and negative samples for stadiums, due to the nature of the problem, classes are highly unbalanced. "
   ]
  },
  {
   "cell_type": "code",
   "execution_count": 7,
   "metadata": {},
   "outputs": [],
   "source": [
    "stadium_images = os.listdir('stadiums/')"
   ]
  },
  {
   "cell_type": "code",
   "execution_count": 8,
   "metadata": {},
   "outputs": [],
   "source": [
    "non_stadium_images = os.listdir('non_stadiums/')"
   ]
  },
  {
   "cell_type": "code",
   "execution_count": 9,
   "metadata": {},
   "outputs": [
    {
     "data": {
      "text/plain": [
       "11972"
      ]
     },
     "execution_count": 9,
     "metadata": {},
     "output_type": "execute_result"
    }
   ],
   "source": [
    "len(non_stadium_images)"
   ]
  },
  {
   "cell_type": "code",
   "execution_count": 10,
   "metadata": {},
   "outputs": [
    {
     "data": {
      "text/plain": [
       "47"
      ]
     },
     "execution_count": 10,
     "metadata": {},
     "output_type": "execute_result"
    }
   ],
   "source": [
    "len(stadium_images)"
   ]
  },
  {
   "cell_type": "code",
   "execution_count": 11,
   "metadata": {},
   "outputs": [],
   "source": [
    "import pandas as pd\n",
    "stadium_df = pd.DataFrame()\n",
    "stadium_df['filename'] = stadium_images\n",
    "stadium_df['is_stadium'] = True"
   ]
  },
  {
   "cell_type": "code",
   "execution_count": 12,
   "metadata": {},
   "outputs": [],
   "source": [
    "non_stadium_df = pd.DataFrame()\n",
    "non_stadium_df['filename'] = non_stadium_images\n",
    "non_stadium_df['is_stadium'] = False"
   ]
  },
  {
   "cell_type": "code",
   "execution_count": 13,
   "metadata": {},
   "outputs": [],
   "source": [
    "dataset_df = pd.concat([non_stadium_df,stadium_df])"
   ]
  },
  {
   "cell_type": "code",
   "execution_count": 14,
   "metadata": {},
   "outputs": [],
   "source": [
    "dataset_df = dataset_df.drop(0)"
   ]
  },
  {
   "cell_type": "markdown",
   "metadata": {},
   "source": [
    "We'll use resnet50 to extract image features from the positives and negative samples. Then use those features as input\n",
    "to a single layer network with dropout for classification"
   ]
  },
  {
   "cell_type": "markdown",
   "metadata": {},
   "source": [
    "Let's try out feature extraction for a single image"
   ]
  },
  {
   "cell_type": "code",
   "execution_count": 16,
   "metadata": {},
   "outputs": [],
   "source": [
    "from keras.applications import resnet50\n",
    "from keras.applications.resnet50 import preprocess_input\n",
    "from keras.preprocessing import image\n"
   ]
  },
  {
   "cell_type": "code",
   "execution_count": 19,
   "metadata": {},
   "outputs": [
    {
     "name": "stdout",
     "output_type": "stream",
     "text": [
      "[[[[ 0.08236177  0.05985396  0.08081593 ...,  0.16119762  0.81385475\n",
      "     0.42690596]]]]\n",
      "(1, 1, 1, 2048)\n"
     ]
    }
   ],
   "source": [
    "model = resnet50.ResNet50(weights='imagenet', include_top=False)\n",
    "#model.summary()\n",
    "\n",
    "img_path = 'stadiums/Estadio Alberto J. Armando.png'\n",
    "img = image.load_img(img_path, target_size=(256, 256))\n",
    "img_data = image.img_to_array(img)\n",
    "img_data = np.expand_dims(img_data, axis=0)\n",
    "img_data = preprocess_input(img_data)\n",
    "\n",
    "resnet_features = model.predict(img_data)\n",
    "print(resnet_features)\n",
    "print(resnet_features.shape)"
   ]
  },
  {
   "cell_type": "markdown",
   "metadata": {},
   "source": [
    "an image is then represented by an array of 2048 floats taken from the output of the resnet. Let's extract \n",
    "features for the rest of the stadium images"
   ]
  },
  {
   "cell_type": "code",
   "execution_count": 20,
   "metadata": {},
   "outputs": [],
   "source": [
    "image_features = []\n",
    "for x in stadium_images:\n",
    "    if x.endswith('.png'):\n",
    "        img = image.load_img('stadiums/'+x, target_size=(256, 256))\n",
    "        img_data = image.img_to_array(img)\n",
    "        img_data = np.expand_dims(img_data, axis=0)\n",
    "        img_data = preprocess_input(img_data)\n",
    "        features = model.predict(img_data)\n",
    "        image_features.append(features.flatten())"
   ]
  },
  {
   "cell_type": "code",
   "execution_count": 14,
   "metadata": {},
   "outputs": [],
   "source": [
    "stadium_features = image_features"
   ]
  },
  {
   "cell_type": "markdown",
   "metadata": {},
   "source": [
    "as a first approach to tackle class imbalance we undersample the negative class"
   ]
  },
  {
   "cell_type": "code",
   "execution_count": 22,
   "metadata": {},
   "outputs": [],
   "source": [
    "import random\n",
    "non_stadium_features = []\n",
    "for x in random.sample(non_stadium_images,1000):\n",
    "    if x.endswith('.jpg'):\n",
    "        img = image.load_img('non_stadiums//'+x, target_size=(256, 256))\n",
    "        img_data = image.img_to_array(img)\n",
    "        img_data = np.expand_dims(img_data, axis=0)\n",
    "        img_data = preprocess_input(img_data)\n",
    "        features = model.predict(img_data)\n",
    "        non_stadium_features.append(features.flatten())"
   ]
  },
  {
   "cell_type": "code",
   "execution_count": 16,
   "metadata": {},
   "outputs": [
    {
     "data": {
      "text/plain": [
       "2048"
      ]
     },
     "execution_count": 16,
     "metadata": {},
     "output_type": "execute_result"
    }
   ],
   "source": [
    "len(non_stadium_features[0])"
   ]
  },
  {
   "cell_type": "code",
   "execution_count": 21,
   "metadata": {},
   "outputs": [],
   "source": [
    "# simple NN to train with static features"
   ]
  },
  {
   "cell_type": "code",
   "execution_count": 75,
   "metadata": {},
   "outputs": [],
   "source": [
    "from keras import models\n",
    "from keras import layers\n",
    "from keras import optimizers\n",
    "model = models.Sequential()\n",
    "model.add(layers.Dense(256, activation='relu', input_dim=2048))\n",
    "model.add(layers.Dropout(0.5))\n",
    "model.add(layers.Dense(1, activation='sigmoid'))\n",
    "model.compile(optimizer=optimizers.RMSprop(lr=2e-5),\n",
    "              loss='binary_crossentropy',\n",
    "              metrics=['acc'])"
   ]
  },
  {
   "cell_type": "code",
   "execution_count": 76,
   "metadata": {},
   "outputs": [],
   "source": [
    "from sklearn.model_selection import train_test_split\n"
   ]
  },
  {
   "cell_type": "code",
   "execution_count": 77,
   "metadata": {},
   "outputs": [],
   "source": [
    "features = np.concatenate((np.array(stadium_features),np.array(non_stadium_features)))\n",
    "labels = np.concatenate((np.full(len(stadium_features),1),np.zeros(len(non_stadium_features))))\n"
   ]
  },
  {
   "cell_type": "code",
   "execution_count": 78,
   "metadata": {},
   "outputs": [
    {
     "data": {
      "text/plain": [
       "45"
      ]
     },
     "execution_count": 78,
     "metadata": {},
     "output_type": "execute_result"
    }
   ],
   "source": [
    "len(stadium_features)"
   ]
  },
  {
   "cell_type": "code",
   "execution_count": 79,
   "metadata": {},
   "outputs": [
    {
     "data": {
      "text/plain": [
       "1043"
      ]
     },
     "execution_count": 79,
     "metadata": {},
     "output_type": "execute_result"
    }
   ],
   "source": [
    "len(features)"
   ]
  },
  {
   "cell_type": "code",
   "execution_count": 80,
   "metadata": {},
   "outputs": [],
   "source": [
    "#val_choices = np.random.choice(np.arange(len(features)),int(len(features)*0.2),replace=False)\n",
    "#validation_features = features[val_choices]\n",
    "#validation_labels = labels[val_choices]\n",
    "train_features,val_features,train_labels,val_labels = train_test_split(features,labels,test_size=0.3)"
   ]
  },
  {
   "cell_type": "code",
   "execution_count": 81,
   "metadata": {},
   "outputs": [
    {
     "name": "stdout",
     "output_type": "stream",
     "text": [
      "313\n"
     ]
    }
   ],
   "source": [
    "print(len(val_features))"
   ]
  },
  {
   "cell_type": "code",
   "execution_count": 82,
   "metadata": {},
   "outputs": [
    {
     "name": "stdout",
     "output_type": "stream",
     "text": [
      "Train on 365 samples, validate on 365 samples\n",
      "Epoch 1/30\n",
      "365/365 [==============================] - 1s 2ms/step - loss: 0.5508 - acc: 0.7342 - val_loss: 0.2164 - val_acc: 0.9644\n",
      "Epoch 2/30\n",
      "365/365 [==============================] - 0s 248us/step - loss: 0.2427 - acc: 0.9370 - val_loss: 0.1572 - val_acc: 0.9644\n",
      "Epoch 3/30\n",
      "365/365 [==============================] - 0s 243us/step - loss: 0.2055 - acc: 0.9479 - val_loss: 0.1349 - val_acc: 0.9644\n",
      "Epoch 4/30\n",
      "365/365 [==============================] - 0s 241us/step - loss: 0.1467 - acc: 0.9589 - val_loss: 0.1170 - val_acc: 0.9644\n",
      "Epoch 5/30\n",
      "365/365 [==============================] - 0s 245us/step - loss: 0.1249 - acc: 0.9589 - val_loss: 0.1028 - val_acc: 0.9644\n",
      "Epoch 6/30\n",
      "365/365 [==============================] - 0s 242us/step - loss: 0.1289 - acc: 0.9562 - val_loss: 0.0901 - val_acc: 0.9644\n",
      "Epoch 7/30\n",
      "365/365 [==============================] - 0s 252us/step - loss: 0.0935 - acc: 0.9753 - val_loss: 0.0807 - val_acc: 0.9671\n",
      "Epoch 8/30\n",
      "365/365 [==============================] - 0s 241us/step - loss: 0.0908 - acc: 0.9671 - val_loss: 0.0715 - val_acc: 0.9699\n",
      "Epoch 9/30\n",
      "365/365 [==============================] - 0s 241us/step - loss: 0.0786 - acc: 0.9781 - val_loss: 0.0657 - val_acc: 0.9699\n",
      "Epoch 10/30\n",
      "365/365 [==============================] - 0s 241us/step - loss: 0.0810 - acc: 0.9644 - val_loss: 0.0564 - val_acc: 0.9753\n",
      "Epoch 11/30\n",
      "365/365 [==============================] - 0s 240us/step - loss: 0.0471 - acc: 0.9890 - val_loss: 0.0515 - val_acc: 0.9753\n",
      "Epoch 12/30\n",
      "365/365 [==============================] - 0s 243us/step - loss: 0.0547 - acc: 0.9781 - val_loss: 0.0459 - val_acc: 0.9781\n",
      "Epoch 13/30\n",
      "365/365 [==============================] - 0s 240us/step - loss: 0.0579 - acc: 0.9753 - val_loss: 0.0415 - val_acc: 0.9808\n",
      "Epoch 14/30\n",
      "365/365 [==============================] - 0s 261us/step - loss: 0.0404 - acc: 0.9808 - val_loss: 0.0380 - val_acc: 0.9863\n",
      "Epoch 15/30\n",
      "365/365 [==============================] - 0s 309us/step - loss: 0.0340 - acc: 0.9836 - val_loss: 0.0380 - val_acc: 0.9863\n",
      "Epoch 16/30\n",
      "365/365 [==============================] - 0s 286us/step - loss: 0.0328 - acc: 0.9890 - val_loss: 0.0376 - val_acc: 0.9863\n",
      "Epoch 17/30\n",
      "365/365 [==============================] - 0s 301us/step - loss: 0.0272 - acc: 0.9890 - val_loss: 0.0338 - val_acc: 0.9890\n",
      "Epoch 18/30\n",
      "365/365 [==============================] - 0s 284us/step - loss: 0.0250 - acc: 0.9890 - val_loss: 0.0325 - val_acc: 0.9890\n",
      "Epoch 19/30\n",
      "365/365 [==============================] - 0s 274us/step - loss: 0.0197 - acc: 0.9945 - val_loss: 0.0326 - val_acc: 0.9890\n",
      "Epoch 20/30\n",
      "365/365 [==============================] - 0s 264us/step - loss: 0.0302 - acc: 0.9890 - val_loss: 0.0282 - val_acc: 0.9918\n",
      "Epoch 21/30\n",
      "365/365 [==============================] - 0s 268us/step - loss: 0.0141 - acc: 0.9973 - val_loss: 0.0289 - val_acc: 0.9890\n",
      "Epoch 22/30\n",
      "365/365 [==============================] - 0s 283us/step - loss: 0.0160 - acc: 0.9973 - val_loss: 0.0270 - val_acc: 0.9918\n",
      "Epoch 23/30\n",
      "365/365 [==============================] - 0s 266us/step - loss: 0.0190 - acc: 0.9918 - val_loss: 0.0237 - val_acc: 0.9918\n",
      "Epoch 24/30\n",
      "365/365 [==============================] - 0s 301us/step - loss: 0.0241 - acc: 0.9890 - val_loss: 0.0227 - val_acc: 0.9918\n",
      "Epoch 25/30\n",
      "365/365 [==============================] - 0s 249us/step - loss: 0.0190 - acc: 0.9945 - val_loss: 0.0229 - val_acc: 0.9918\n",
      "Epoch 26/30\n",
      "365/365 [==============================] - 0s 263us/step - loss: 0.0147 - acc: 1.0000 - val_loss: 0.0220 - val_acc: 0.9918\n",
      "Epoch 27/30\n",
      "365/365 [==============================] - 0s 267us/step - loss: 0.0138 - acc: 1.0000 - val_loss: 0.0226 - val_acc: 0.9918\n",
      "Epoch 28/30\n",
      "365/365 [==============================] - 0s 260us/step - loss: 0.0156 - acc: 0.9973 - val_loss: 0.0222 - val_acc: 0.9918\n",
      "Epoch 29/30\n",
      "365/365 [==============================] - 0s 264us/step - loss: 0.0099 - acc: 0.9973 - val_loss: 0.0223 - val_acc: 0.9918\n",
      "Epoch 30/30\n",
      "365/365 [==============================] - 0s 264us/step - loss: 0.0126 - acc: 0.9973 - val_loss: 0.0193 - val_acc: 0.9918\n"
     ]
    }
   ],
   "source": [
    "history = model.fit(x=train_features,y=train_labels,\n",
    "                    epochs=30,\n",
    "                    batch_size=20,\n",
    "                    validation_split=0.5)\n",
    "\n",
    "\n"
   ]
  },
  {
   "cell_type": "code",
   "execution_count": 83,
   "metadata": {},
   "outputs": [
    {
     "data": {
      "text/plain": [
       "28.0"
      ]
     },
     "execution_count": 83,
     "metadata": {},
     "output_type": "execute_result"
    }
   ],
   "source": [
    "sum(train_labels)"
   ]
  },
  {
   "cell_type": "code",
   "execution_count": 84,
   "metadata": {},
   "outputs": [
    {
     "data": {
      "text/plain": [
       "17.0"
      ]
     },
     "execution_count": 84,
     "metadata": {},
     "output_type": "execute_result"
    }
   ],
   "source": [
    "sum(val_labels)"
   ]
  },
  {
   "cell_type": "code",
   "execution_count": 85,
   "metadata": {},
   "outputs": [],
   "source": [
    "predictions = model.predict_proba(val_features)"
   ]
  },
  {
   "cell_type": "code",
   "execution_count": 86,
   "metadata": {},
   "outputs": [],
   "source": [
    "results = list(map(lambda x,y: (x,y),predictions,val_labels))"
   ]
  },
  {
   "cell_type": "code",
   "execution_count": 87,
   "metadata": {},
   "outputs": [],
   "source": [
    "import pandas as pd\n",
    "results_df = pd.DataFrame.from_records(results)\n",
    "results_df.columns=['prediction','label']"
   ]
  },
  {
   "cell_type": "code",
   "execution_count": 88,
   "metadata": {},
   "outputs": [],
   "source": [
    "from sklearn.metrics import roc_auc_score"
   ]
  },
  {
   "cell_type": "code",
   "execution_count": 89,
   "metadata": {},
   "outputs": [],
   "source": [
    "from sklearn.metrics import confusion_matrix"
   ]
  },
  {
   "cell_type": "code",
   "execution_count": 90,
   "metadata": {},
   "outputs": [
    {
     "data": {
      "text/plain": [
       "array([[296,   0],\n",
       "       [  4,  13]])"
      ]
     },
     "execution_count": 90,
     "metadata": {},
     "output_type": "execute_result"
    }
   ],
   "source": [
    "confusion_matrix(y_true = results_df['label'],y_pred=results_df['prediction']>0.5,labels=[0.0,1.0])"
   ]
  },
  {
   "cell_type": "code",
   "execution_count": 91,
   "metadata": {},
   "outputs": [
    {
     "data": {
      "text/plain": [
       "0.99761526232114461"
      ]
     },
     "execution_count": 91,
     "metadata": {},
     "output_type": "execute_result"
    }
   ],
   "source": [
    "roc_auc_score(results_df['label'],results_df['prediction'])"
   ]
  },
  {
   "cell_type": "code",
   "execution_count": 92,
   "metadata": {},
   "outputs": [],
   "source": [
    "from sklearn.metrics import f1_score,auc"
   ]
  },
  {
   "cell_type": "code",
   "execution_count": 93,
   "metadata": {},
   "outputs": [],
   "source": [
    "from sklearn.metrics import roc_curve"
   ]
  },
  {
   "cell_type": "code",
   "execution_count": 94,
   "metadata": {},
   "outputs": [],
   "source": [
    "%matplotlib inline\n",
    "fpr_keras, tpr_keras, thresholds_keras = roc_curve(results_df['label'],results_df['prediction'])"
   ]
  },
  {
   "cell_type": "code",
   "execution_count": 95,
   "metadata": {},
   "outputs": [
    {
     "data": {
      "text/plain": [
       "array([array([ 0.94690043], dtype=float32),\n",
       "       array([ 0.35139912], dtype=float32),\n",
       "       array([ 0.09173584], dtype=float32),\n",
       "       array([ 0.07516082], dtype=float32),\n",
       "       array([ 0.04373168], dtype=float32),\n",
       "       array([ 0.04350336], dtype=float32),\n",
       "       array([  1.69703731e-06], dtype=float32)], dtype=object)"
      ]
     },
     "execution_count": 95,
     "metadata": {},
     "output_type": "execute_result"
    }
   ],
   "source": [
    "thresholds_keras"
   ]
  },
  {
   "cell_type": "code",
   "execution_count": 96,
   "metadata": {},
   "outputs": [
    {
     "ename": "TypeError",
     "evalue": "'module' object is not callable",
     "output_type": "error",
     "traceback": [
      "\u001b[0;31m---------------------------------------------------------------------------\u001b[0m",
      "\u001b[0;31mTypeError\u001b[0m                                 Traceback (most recent call last)",
      "\u001b[0;32m<ipython-input-96-ee98755ed422>\u001b[0m in \u001b[0;36m<module>\u001b[0;34m\u001b[0m\n\u001b[0;32m----> 1\u001b[0;31m \u001b[0mplt\u001b[0m\u001b[0;34m.\u001b[0m\u001b[0mfigure\u001b[0m\u001b[0;34m(\u001b[0m\u001b[0;36m1\u001b[0m\u001b[0;34m)\u001b[0m\u001b[0;34m\u001b[0m\u001b[0m\n\u001b[0m\u001b[1;32m      2\u001b[0m \u001b[0mplt\u001b[0m\u001b[0;34m.\u001b[0m\u001b[0mplot\u001b[0m\u001b[0;34m(\u001b[0m\u001b[0;34m[\u001b[0m\u001b[0;36m0\u001b[0m\u001b[0;34m,\u001b[0m \u001b[0;36m1\u001b[0m\u001b[0;34m]\u001b[0m\u001b[0;34m,\u001b[0m \u001b[0;34m[\u001b[0m\u001b[0;36m0\u001b[0m\u001b[0;34m,\u001b[0m \u001b[0;36m1\u001b[0m\u001b[0;34m]\u001b[0m\u001b[0;34m,\u001b[0m \u001b[0;34m'k--'\u001b[0m\u001b[0;34m)\u001b[0m\u001b[0;34m\u001b[0m\u001b[0m\n\u001b[1;32m      3\u001b[0m \u001b[0mplt\u001b[0m\u001b[0;34m.\u001b[0m\u001b[0mplot\u001b[0m\u001b[0;34m(\u001b[0m\u001b[0mfpr_keras\u001b[0m\u001b[0;34m,\u001b[0m \u001b[0mtpr_keras\u001b[0m\u001b[0;34m,\u001b[0m \u001b[0mlabel\u001b[0m\u001b[0;34m=\u001b[0m\u001b[0;34m'Keras (area = {:.3f})'\u001b[0m\u001b[0;34m.\u001b[0m\u001b[0mformat\u001b[0m\u001b[0;34m(\u001b[0m\u001b[0mauc_keras\u001b[0m\u001b[0;34m)\u001b[0m\u001b[0;34m)\u001b[0m\u001b[0;34m\u001b[0m\u001b[0m\n\u001b[1;32m      4\u001b[0m \u001b[0mplt\u001b[0m\u001b[0;34m.\u001b[0m\u001b[0mplot\u001b[0m\u001b[0;34m(\u001b[0m\u001b[0mfpr_rf\u001b[0m\u001b[0;34m,\u001b[0m \u001b[0mtpr_rf\u001b[0m\u001b[0;34m,\u001b[0m \u001b[0mlabel\u001b[0m\u001b[0;34m=\u001b[0m\u001b[0;34m'RF (area = {:.3f})'\u001b[0m\u001b[0;34m.\u001b[0m\u001b[0mformat\u001b[0m\u001b[0;34m(\u001b[0m\u001b[0mauc_rf\u001b[0m\u001b[0;34m)\u001b[0m\u001b[0;34m)\u001b[0m\u001b[0;34m\u001b[0m\u001b[0m\n\u001b[1;32m      5\u001b[0m \u001b[0mplt\u001b[0m\u001b[0;34m.\u001b[0m\u001b[0mxlabel\u001b[0m\u001b[0;34m(\u001b[0m\u001b[0;34m'False positive rate'\u001b[0m\u001b[0;34m)\u001b[0m\u001b[0;34m\u001b[0m\u001b[0m\n",
      "\u001b[0;31mTypeError\u001b[0m: 'module' object is not callable"
     ]
    }
   ],
   "source": [
    "plt.figure(1)\n",
    "plt.plot([0, 1], [0, 1], 'k--')\n",
    "plt.plot(fpr_keras, tpr_keras, label='Keras (area = {:.3f})'.format(auc_keras))\n",
    "plt.plot(fpr_rf, tpr_rf, label='RF (area = {:.3f})'.format(auc_rf))\n",
    "plt.xlabel('False positive rate')\n",
    "plt.ylabel('True positive rate')\n",
    "plt.title('ROC cuddrve')\n",
    "plt.legend(loc='best')\n",
    "plt.show()\n",
    "# Zoom in view of the upper left corner.\n",
    "plt.figure(2)\n",
    "plt.xlim(0, 0.2)\n",
    "plt.ylim(0.8, 1)\n",
    "plt.plot([0, 1], [0, 1], 'k--')\n",
    "plt.plot(fpr_keras, tpr_keras, label='Keras (area = {:.3f})'.format(auc_keras))\n",
    "plt.plot(fpr_rf, tpr_rf, label='RF (area = {:.3f})'.format(auc_rf))\n",
    "plt.xlabel('False positive rate')\n",
    "plt.ylabel('True positive rate')\n",
    "plt.title('ROC curve (zoomed in at top left)')\n",
    "plt.legend(loc='best')\n",
    "plt.show()"
   ]
  },
  {
   "cell_type": "code",
   "execution_count": 97,
   "metadata": {},
   "outputs": [],
   "source": [
    "model.save('resnet+dense.hdf5')"
   ]
  },
  {
   "cell_type": "code",
   "execution_count": null,
   "metadata": {},
   "outputs": [],
   "source": []
  }
 ],
 "metadata": {
  "kernelspec": {
   "display_name": "Python 3",
   "language": "python",
   "name": "python3"
  },
  "language_info": {
   "codemirror_mode": {
    "name": "ipython",
    "version": 3
   },
   "file_extension": ".py",
   "mimetype": "text/x-python",
   "name": "python",
   "nbconvert_exporter": "python",
   "pygments_lexer": "ipython3",
   "version": "3.6.4"
  }
 },
 "nbformat": 4,
 "nbformat_minor": 4
}
